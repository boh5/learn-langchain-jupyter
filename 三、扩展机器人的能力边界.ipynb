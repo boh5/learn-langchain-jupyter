{
 "cells": [
  {
   "cell_type": "code",
   "execution_count": 1,
   "id": "0576645c",
   "metadata": {},
   "outputs": [
    {
     "data": {
      "text/plain": [
       "True"
      ]
     },
     "execution_count": 1,
     "metadata": {},
     "output_type": "execute_result"
    }
   ],
   "source": [
    "# load environment variables from .env file (requires `python-dotenv`)\n",
    "from dotenv import load_dotenv\n",
    "import os\n",
    "\n",
    "load_dotenv()"
   ]
  },
  {
   "cell_type": "code",
   "execution_count": 2,
   "id": "167701bd",
   "metadata": {},
   "outputs": [
    {
     "data": {
      "text/plain": [
       "'我是一位 AI 模型，目前的时间信息可能已经过时。我的知识截止日期是 2023 年 12 月，如果您需要在当前日期下获取信息，可能会有一定误差。然而根据您的问题，可以知道您问的是 2024 年 7 月 6 日。'"
      ]
     },
     "execution_count": 2,
     "metadata": {},
     "output_type": "execute_result"
    }
   ],
   "source": [
    "from langchain_openai import ChatOpenAI\n",
    "\n",
    "\n",
    "llm = ChatOpenAI(\n",
    "    model=\"llama-3.1-8b-instant\",\n",
    "    base_url=\"https://api.groq.com/openai/v1\",\n",
    ")\n",
    "\n",
    "llm.invoke(\"今天是几月几号？\").content"
   ]
  },
  {
   "cell_type": "code",
   "execution_count": null,
   "id": "f5ab5fea",
   "metadata": {},
   "outputs": [
    {
     "name": "stdout",
     "output_type": "stream",
     "text": [
      "content='' additional_kwargs={'tool_calls': [{'id': 'vfzmtfn9z', 'function': {'arguments': '{}', 'name': 'get_current_date'}, 'type': 'function'}], 'refusal': None} response_metadata={'token_usage': {'completion_tokens': 10, 'prompt_tokens': 208, 'total_tokens': 218, 'completion_tokens_details': None, 'prompt_tokens_details': None, 'queue_time': 0.196183811, 'prompt_time': 0.015766282, 'completion_time': 0.017255887, 'total_time': 0.033022169}, 'model_name': 'llama-3.1-8b-instant', 'system_fingerprint': 'fp_510c177af0', 'id': 'chatcmpl-ed8280f7-1adf-4708-a4c1-53114e12da3d', 'service_tier': None, 'finish_reason': 'tool_calls', 'logprobs': None} id='run--824229e1-2247-4646-a433-25377e92ed3b-0' tool_calls=[{'name': 'get_current_date', 'args': {}, 'id': 'vfzmtfn9z', 'type': 'tool_call'}] usage_metadata={'input_tokens': 208, 'output_tokens': 10, 'total_tokens': 218, 'input_token_details': {}, 'output_token_details': {}}\n",
      "[{'name': 'get_current_date', 'args': {}, 'id': 'vfzmtfn9z', 'type': 'tool_call'}]\n"
     ]
    },
    {
     "data": {
      "text/plain": [
       "'或者，我也可以直接告诉你，今天是7月6号。'"
      ]
     },
     "execution_count": 4,
     "metadata": {},
     "output_type": "execute_result"
    }
   ],
   "source": [
    "from langchain.tools import tool\n",
    "import datetime\n",
    "\n",
    "@tool\n",
    "def get_current_date():\n",
    "    \"\"\" 获取今天的日期 \"\"\"\n",
    "    return datetime.datetime.today().strftime(\"%Y-%m-%d\")\n",
    "\n",
    "# 大模型绑定工具\n",
    "llm_with_tools = llm.bind_tools([get_current_date])\n",
    "\n",
    "# 工具容器\n",
    "all_tools = {\"get_current_date\": get_current_date}\n",
    "\n",
    "query = \"今天是几月几号？\"\n",
    "messages = [query]\n",
    "\n",
    "\n",
    "ai_msg = llm_with_tools.invoke(messages)\n",
    "messages.append(ai_msg)\n",
    "\n",
    "# content 是空。但有 tool calls\n",
    "print(ai_msg)\n",
    "\n",
    "# 打印需要调用的工具\n",
    "print(ai_msg.tool_calls)\n",
    "if ai_msg.tool_calls:\n",
    "    for tool_call in ai_msg.tool_calls:\n",
    "        selected_tool = all_tools[tool_call[\"name\"].lower()]\n",
    "        tool_msg = selected_tool.invoke(tool_call)\n",
    "        messages.append(tool_msg)\n",
    "\n",
    "llm_with_tools.invoke(messages).content"
   ]
  },
  {
   "cell_type": "code",
   "execution_count": 8,
   "id": "46ae7d69",
   "metadata": {},
   "outputs": [
    {
     "name": "stdout",
     "output_type": "stream",
     "text": [
      "{'language': {'title': 'Language', 'type': 'string'}}\n",
      "[{'name': 'translate_tool', 'args': {'language': 'en', 'name': 'translate_tool', 'text': '今天天气真冷'}, 'id': '6v9ehn08y', 'type': 'tool_call'}]\n",
      ">>>>>>>>>>>>>>>>>\n"
     ]
    },
    {
     "data": {
      "text/plain": [
       "\"That's a kind response.\""
      ]
     },
     "execution_count": 8,
     "metadata": {},
     "output_type": "execute_result"
    }
   ],
   "source": [
    "from langchain_core.output_parsers import StrOutputParser\n",
    "from langchain_core.prompts.chat import ChatPromptTemplate\n",
    "\n",
    "# LCEL 定制一个 chain\n",
    "prompt = ChatPromptTemplate.from_messages([(\"human\", \" 你好，请用下面这种语言回答我的问题 {language}.\")])\n",
    "\n",
    "parser = StrOutputParser()\n",
    "\n",
    "chain = prompt | llm | parser\n",
    "\n",
    "# 讲 chain 转换为工具\n",
    "as_tool = chain.as_tool(name=\"translate_tool\", description=\"翻译任务\")\n",
    "\n",
    "all_tools = {\"translate_tool\": as_tool}\n",
    "print(as_tool.args)\n",
    "\n",
    "# 绑定工具\n",
    "llm_with_tools = llm.bind_tools([as_tool])\n",
    "\n",
    "query = \"今天天气真冷，这句话用英语怎么回答？\"\n",
    "messages = [query]\n",
    "\n",
    "ai_msg = llm_with_tools.invoke(messages)\n",
    "messages.append(ai_msg)\n",
    "\n",
    "print(ai_msg.tool_calls)\n",
    "print(\">>>>>>>>>>>>>>>>>\")\n",
    "if ai_msg.tool_calls:\n",
    "    for tool_call in ai_msg.tool_calls:\n",
    "        selected_tool = all_tools[tool_call[\"name\"].lower()]\n",
    "        tool_msg = selected_tool.invoke(tool_call)\n",
    "        messages.append(tool_msg)\n",
    "\n",
    "llm_with_tools.invoke(messages).content"
   ]
  },
  {
   "cell_type": "markdown",
   "id": "189e2b46",
   "metadata": {},
   "source": [
    "## Agent"
   ]
  },
  {
   "cell_type": "code",
   "execution_count": null,
   "id": "bb75221a",
   "metadata": {},
   "outputs": [
    {
     "name": "stdout",
     "output_type": "stream",
     "text": [
      "\n",
      "\n",
      "\u001b[1m> Entering new AgentExecutor chain...\u001b[0m\n",
      "\u001b[32;1m\u001b[1;3m\u001b[0m\n",
      "\n",
      "\u001b[1m> Finished chain.\u001b[0m\n"
     ]
    },
    {
     "data": {
      "text/plain": [
       "{'input': '北京今天天气怎么样', 'output': ''}"
      ]
     },
     "execution_count": 17,
     "metadata": {},
     "output_type": "execute_result"
    }
   ],
   "source": [
    "from langchain.tools import tool\n",
    "from langchain.agents import initialize_agent, AgentType\n",
    "\n",
    "@tool(description=\"获取某个城市的天气\")\n",
    "def get_city_weather(city: str):\n",
    "    \"\"\" 获取某个城市的天气\n",
    "    Args:\n",
    "        city: 具体城市\n",
    "    \"\"\"\n",
    "    return  \"城市\" + city + \", 今天天气不错\"\n",
    "\n",
    "llm2 = ChatOpenAI(\n",
    "    model=\"llama3-70b-8192\",\n",
    "    base_url=\"https://api.groq.com/openai/v1\",\n",
    ")\n",
    "\n",
    "# 初始化 agent\n",
    "agent = initialize_agent(\n",
    "    tools=[get_city_weather],\n",
    "    llm=llm2,\n",
    "    agent=AgentType.OPENAI_FUNCTIONS,\n",
    "    verbose=True,\n",
    ")\n",
    "\n",
    "query = \"北京今天天气怎么样？\"\n",
    "response = agent.invoke(query)\n",
    "response"
   ]
  },
  {
   "cell_type": "code",
   "execution_count": null,
   "id": "66843530",
   "metadata": {},
   "outputs": [],
   "source": []
  }
 ],
 "metadata": {
  "kernelspec": {
   "display_name": ".venv",
   "language": "python",
   "name": "python3"
  },
  "language_info": {
   "codemirror_mode": {
    "name": "ipython",
    "version": 3
   },
   "file_extension": ".py",
   "mimetype": "text/x-python",
   "name": "python",
   "nbconvert_exporter": "python",
   "pygments_lexer": "ipython3",
   "version": "3.11.13"
  }
 },
 "nbformat": 4,
 "nbformat_minor": 5
}
