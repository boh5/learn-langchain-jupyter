{
 "cells": [
  {
   "cell_type": "code",
   "execution_count": 10,
   "id": "57f76001",
   "metadata": {},
   "outputs": [
    {
     "name": "stdout",
     "output_type": "stream",
     "text": [
      "20:43:17 httpx INFO   HTTP Request: POST http://127.0.0.1:11434/api/embed \"HTTP/1.1 200 OK\"\n",
      "20:43:18 httpx INFO   HTTP Request: POST http://127.0.0.1:11434/api/embed \"HTTP/1.1 200 OK\"\n"
     ]
    },
    {
     "data": {
      "text/plain": [
       "['fruit::01JZQKCERHBFVGBHQB9R91QZ53',\n",
       " 'fruit::01JZQKCERHAN0C25HQ3JR4QW32',\n",
       " 'fruit::01JZQKCERHBR8M09PN6139MP81']"
      ]
     },
     "execution_count": 10,
     "metadata": {},
     "output_type": "execute_result"
    }
   ],
   "source": [
    "from langchain_ollama.embeddings import OllamaEmbeddings\n",
    "\n",
    "embedding_model = OllamaEmbeddings(\n",
    "    model=\"nomic-embed-text\",\n",
    ")\n",
    "\n",
    "from langchain_redis import RedisConfig, RedisVectorStore\n",
    "\n",
    "config = RedisConfig(\n",
    "    index_name=\"fruit\",\n",
    "    redis_url=\"redis://localhost:6379\",\n",
    ")\n",
    "\n",
    "vector_store = RedisVectorStore(embedding_model, config=config)\n",
    "\n",
    "vector_store.add_texts([\"香蕉很长\", \"苹果很甜\", \"西瓜又大又圆\"])\n",
    "\n"
   ]
  },
  {
   "cell_type": "code",
   "execution_count": 11,
   "id": "a6cea4b9",
   "metadata": {},
   "outputs": [
    {
     "name": "stdout",
     "output_type": "stream",
     "text": [
      "20:43:22 httpx INFO   HTTP Request: POST http://127.0.0.1:11434/api/embed \"HTTP/1.1 200 OK\"\n",
      "西瓜又大又圆 - 0.344273090363\n",
      "苹果很甜 - 0.350118458271\n",
      "香蕉很长 - 0.441376566887\n"
     ]
    }
   ],
   "source": [
    "scored_results = vector_store.similarity_search_with_score(\"又圆又大的水果是什么\", k=3)\n",
    "for doc, score in scored_results:\n",
    "    print(f\"{doc.page_content} - {score}\")"
   ]
  }
 ],
 "metadata": {
  "kernelspec": {
   "display_name": ".venv",
   "language": "python",
   "name": "python3"
  },
  "language_info": {
   "codemirror_mode": {
    "name": "ipython",
    "version": 3
   },
   "file_extension": ".py",
   "mimetype": "text/x-python",
   "name": "python",
   "nbconvert_exporter": "python",
   "pygments_lexer": "ipython3",
   "version": "3.11.0"
  }
 },
 "nbformat": 4,
 "nbformat_minor": 5
}
