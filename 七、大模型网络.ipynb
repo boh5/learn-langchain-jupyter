{
 "cells": [
  {
   "cell_type": "markdown",
   "id": "b8f2a180",
   "metadata": {},
   "source": [
    "## 工具们\n",
    "\n",
    "1. OneAPI\n",
    "2. FastGPT\n",
    "3. LangGraph\n",
    "4. Gradio"
   ]
  }
 ],
 "metadata": {
  "kernelspec": {
   "display_name": ".venv",
   "language": "python",
   "name": "python3"
  },
  "language_info": {
   "name": "python",
   "version": "3.11.0"
  }
 },
 "nbformat": 4,
 "nbformat_minor": 5
}
