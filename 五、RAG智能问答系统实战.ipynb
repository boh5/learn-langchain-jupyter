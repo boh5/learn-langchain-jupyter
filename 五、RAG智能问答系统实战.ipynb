{
 "cells": [
  {
   "cell_type": "markdown",
   "id": "a19657a2",
   "metadata": {},
   "source": [
    "## Indexing"
   ]
  },
  {
   "cell_type": "code",
   "execution_count": 7,
   "id": "de10bd1f",
   "metadata": {},
   "outputs": [
    {
     "data": {
      "text/plain": [
       "[Document(metadata={'source': './resources/meituan_faq.txt'}, page_content='Q：在线支付取消订单后钱怎么返还？\\n订单取消后，款项会在一个工作日内，直接返还到您的美团账户余额。\\n\\nQ：怎么查看退款是否成功？\\n退款会在一个工作日之内到美团账户余额，可在“账号管理——我的账号”中查看是否到账。\\n\\nQ：美团账户里的余额怎么提现？\\n余额可到美团网（meituan.com）——“我的美团→美团余额”里提取到您的银行卡或者支付宝账号，另外，余额也可直接用于支付外卖订单（限支持在线支付的商家）。\\n\\nQ：余额提现到账时间是多久？\\n1-7个工作日内可退回您的支付账户。由于银行处理可能有延迟，具体以账户的到账时间为准。\\n\\nQ：申请退款后，商家拒绝了怎么办？\\n申请退款后，如果商家拒绝，此时回到订单页面点击“退款申诉”，美团客服介入处理。\\n\\nQ：怎么取消退款呢？\\n请在订单页点击“不退款了”，商家还会正常送餐的。\\n\\nQ：前面下了一个在线支付的单子，由于未付款，订单自动取消了，这单会计算我的参与活动次数吗？\\n不会。如果是未支付的在线支付订单，可以先将订单取消（如果不取消需要15分钟后系统自动取消），订单无效后，此时您再下单仍会享受活动的优惠。\\n\\nQ：为什么我用微信订餐，却无法使用在线支付？\\n目前只有网页版和美团外卖手机App(非美团手机客户端)订餐，才能使用在线支付，请更换到网页版和美团外卖手机App下单。\\n\\nQ：如何进行付款？\\n美团外卖现在支持货到付款与在线支付，其中微信版与手机触屏版暂不支持在线支付。\\n\\nQ：如何查看可以在线支付的商家？\\n你可以在商家列表页寻找带有“付”标识的商家，提交订单时可以选择支付方式。\\n\\nQ：美团外卖支持哪些支付方式？\\n现已支持美团余额、支付宝、网银（储蓄卡、信用卡）。\\n\\nQ：在线支付订单如何退款？\\n商家接单前，您可以直接取消订单，订单金额会自动退款到美团余额；商家接单后，您在点击“申请退款”，在线申请。提交退款申请之后，商家有24小时处理您的退款申请。商家同意退款，或24小时内没有处理您的退款申请，您的支付金额会退款至您的美团余额。\\n\\nQ：在线支付的过程中，订单显示未支付成功，款项却被扣了，怎么办？\\n出现此问题，可能是银行/支付宝的数据没有即时传输至美团，请您不要担心，稍后刷新页面查看。 如半小时后仍显示\"未付款\"，请先联系银行/支付宝客服，获取您扣款的交易号，然后致电美团外卖客服4008507777，我们会协助您解决。\\n\\nQ：哪些商家有优惠？都有些什么优惠？\\n有优惠的商家在商家列表页均含有优惠标识；具体的优惠可以查看活动详情或者商家详情页中的描述。\\n\\nQ：在新用户享受的优惠中，新用户的条件是什么？\\n新用户是指第一次在美团外卖下单的用户（同一设备、同一手机号、同一账户仅可享受一次）。\\n\\nQ：我达到了满赠、满减的优惠的金额，为什么没有享受相关的优惠？\\n满赠与满减优惠是以订单内菜品的总额来计算的，不包含配送费与包装费。\\n\\nQ：超时赔付是什么意思？\\n超时赔付模式即：商家承诺一个送达时间和一个折扣,从用户下单时间开始计算,如果外卖超过了承诺时间才送到,该份外卖按照折扣价收取费用。由于恶劣天气、某些美食烹调时间过长、或者其他因素,商家会选择性的延长承诺时间或者不做承诺。预订单不参与超时赔付。\\n\\nQ：为什么提示我“账户存在异常，无法下单”？\\n包含（但不仅限于）以下行为者，系统将自动予以封禁（客服无权解封）：i）有过虚假交易（编造不存在真实买卖的订单）；ii）有过恶意下单行为；\\n\\nQ：如何取消订单？\\n如果商家尚未接单，您可以在订单详情页通过“取消订单”功能进行取消;如果商家已接单，则需要您电话联系后由商家取消订单。\\n\\nQ：我的订单为什么被取消了？\\n如果商家5分钟未接您的订单，为了保障您的权益，系统将会为您自动取消订单；商家接单后可能由于无法联系到您、菜品售完等原因无法配送，因而取消了您的订单，具体原因可查看系统发送的短信或通知。\\n\\nQ：如何进行催单？\\n您可以在订单状态页面点击“电话催单”按钮向商家商家催单。\\n\\nQ：刚下单发现信息填错了怎么办？\\n如果商家尚未接单，您可以自主取消订单；如果商家已经接单，您可以电话联系商家后由对方取消订单。然后重新下一单。\\n\\nQ：我的订单是否被商家确认？\\nApp用户可以在商家确认您的订单时收到推送通知，并且订单状态会实时更新；手机触屏版及微信用户可以刷新订单状态页查看。\\n\\nQ：预计送达的时间为什么与我实际收餐的时间不符？\\n预计送达时间是系统根据用户评价的时间进行综合计算而得到的参考时间，餐厅的实际配送时间会受到当天的天气、订单量等外界因素影响。\\n\\nQ：为什么会出现无法下单的情况？\\n无法下单有很多情况，可能是菜品售完、餐厅不在营业时间等，请查看无法下单时给的提示。\\n\\nQ：为什么提示下单次数过多，已无法下单？\\n同一手机号在同一设备上一天最多可以成功提交7次订单（在线支付以完成支付为准，货到付款以提交订单为准）。\\n\\nQ：如果对商家服务不满意如何进行投诉？\\n您可以在该订单完成评价后点击订单详情页中的意见反馈向客服投诉，或者拨打美团外卖的客服电话（400-850-7777）向客服进行投诉。\\n\\nQ：如何联系客服解决问题？\\n您可以拨打美团外卖的客服电话（400-850-7777）或者在“我的”——>“意见反馈”页面提交反馈。\\n\\nQ：我用的是手机客户端，为什么无法定位？\\n请先检查手机的网络以及是否开启定位功能。若确认正常，请试着在户外或wifi环境下进行定位。\\n\\nQ：如何修改自己的账户信息？\\n美团外卖使用的是美团账号，您可以在“我的”页面修改个人账号信息，也可以在美团网账号页面修改个人账号。\\n\\nQ：为什么有时需要输入短信验证码？\\n为了保障您的账号安全及商家利益，对于新用户及一些有异常行为的下单系统会提示您输入短信验证码。如果迟迟未接收到短信验证码，您同样可以选择接听语音验证码。\\n\\n')]"
      ]
     },
     "execution_count": 7,
     "metadata": {},
     "output_type": "execute_result"
    }
   ],
   "source": [
    "from langchain_community.document_loaders import TextLoader\n",
    "\n",
    "# 加载文档\n",
    "loader = TextLoader(\"./resources/meituan_faq.txt\", encoding=\"utf-8\")\n",
    "documents = loader.load()\n",
    "documents"
   ]
  },
  {
   "cell_type": "code",
   "execution_count": 8,
   "id": "9f1161b5",
   "metadata": {},
   "outputs": [
    {
     "name": "stdout",
     "output_type": "stream",
     "text": [
      "6\n",
      "Q：在线支付取消订单后钱怎么返还？\n",
      "订单取消后，款项会在一个工作日内，直接返还到您的美团账户余额。\n",
      "\n",
      "Q：怎么查看退款是否成功？\n",
      "退款会在一个工作日之内到美团账户余额，可在“账号管理——我的账号”中查看是否到账。\n",
      "\n",
      "Q：美团账户里的余额怎么提现？\n",
      "余额可到美团网（meituan.com）——“我的美团→美团余额”里提取到您的银行卡或者支付宝账号，另外，余额也可直接用于支付外卖订单（限支持在线支付的商家）。\n",
      "\n",
      "Q：余额提现到账时间是多久？\n",
      "1-7个工作日内可退回您的支付账户。由于银行处理可能有延迟，具体以账户的到账时间为准。\n",
      "\n",
      "Q：申请退款后，商家拒绝了怎么办？\n",
      "申请退款后，如果商家拒绝，此时回到订单页面点击“退款申诉”，美团客服介入处理。\n",
      "\n",
      "Q：怎么取消退款呢？\n",
      "请在订单页点击“不退款了”，商家还会正常送餐的。\n",
      "\n",
      "Q：前面下了一个在线支付的单子，由于未付款，订单自动取消了，这单会计算我的参与活动次数吗？\n",
      "不会。如果是未支付的在线支付订单，可以先将订单取消（如果不取消需要15分钟后系统自动取消），订单无效后，此时您再下单仍会享受活动的优惠。\n",
      "--------\n",
      "Q：为什么我用微信订餐，却无法使用在线支付？\n",
      "目前只有网页版和美团外卖手机App(非美团手机客户端)订餐，才能使用在线支付，请更换到网页版和美团外卖手机App下单。\n",
      "\n",
      "Q：如何进行付款？\n",
      "美团外卖现在支持货到付款与在线支付，其中微信版与手机触屏版暂不支持在线支付。\n",
      "\n",
      "Q：如何查看可以在线支付的商家？\n",
      "你可以在商家列表页寻找带有“付”标识的商家，提交订单时可以选择支付方式。\n",
      "\n",
      "Q：美团外卖支持哪些支付方式？\n",
      "现已支持美团余额、支付宝、网银（储蓄卡、信用卡）。\n",
      "\n",
      "Q：在线支付订单如何退款？\n",
      "商家接单前，您可以直接取消订单，订单金额会自动退款到美团余额；商家接单后，您在点击“申请退款”，在线申请。提交退款申请之后，商家有24小时处理您的退款申请。商家同意退款，或24小时内没有处理您的退款申请，您的支付金额会退款至您的美团余额。\n",
      "--------\n",
      "Q：在线支付的过程中，订单显示未支付成功，款项却被扣了，怎么办？\n",
      "出现此问题，可能是银行/支付宝的数据没有即时传输至美团，请您不要担心，稍后刷新页面查看。 如半小时后仍显示\"未付款\"，请先联系银行/支付宝客服，获取您扣款的交易号，然后致电美团外卖客服4008507777，我们会协助您解决。\n",
      "\n",
      "Q：哪些商家有优惠？都有些什么优惠？\n",
      "有优惠的商家在商家列表页均含有优惠标识；具体的优惠可以查看活动详情或者商家详情页中的描述。\n",
      "\n",
      "Q：在新用户享受的优惠中，新用户的条件是什么？\n",
      "新用户是指第一次在美团外卖下单的用户（同一设备、同一手机号、同一账户仅可享受一次）。\n",
      "\n",
      "Q：我达到了满赠、满减的优惠的金额，为什么没有享受相关的优惠？\n",
      "满赠与满减优惠是以订单内菜品的总额来计算的，不包含配送费与包装费。\n",
      "\n",
      "Q：超时赔付是什么意思？\n",
      "超时赔付模式即：商家承诺一个送达时间和一个折扣,从用户下单时间开始计算,如果外卖超过了承诺时间才送到,该份外卖按照折扣价收取费用。由于恶劣天气、某些美食烹调时间过长、或者其他因素,商家会选择性的延长承诺时间或者不做承诺。预订单不参与超时赔付。\n",
      "--------\n",
      "Q：为什么提示我“账户存在异常，无法下单”？\n",
      "包含（但不仅限于）以下行为者，系统将自动予以封禁（客服无权解封）：i）有过虚假交易（编造不存在真实买卖的订单）；ii）有过恶意下单行为；\n",
      "\n",
      "Q：如何取消订单？\n",
      "如果商家尚未接单，您可以在订单详情页通过“取消订单”功能进行取消;如果商家已接单，则需要您电话联系后由商家取消订单。\n",
      "\n",
      "Q：我的订单为什么被取消了？\n",
      "如果商家5分钟未接您的订单，为了保障您的权益，系统将会为您自动取消订单；商家接单后可能由于无法联系到您、菜品售完等原因无法配送，因而取消了您的订单，具体原因可查看系统发送的短信或通知。\n",
      "\n",
      "Q：如何进行催单？\n",
      "您可以在订单状态页面点击“电话催单”按钮向商家商家催单。\n",
      "\n",
      "Q：刚下单发现信息填错了怎么办？\n",
      "如果商家尚未接单，您可以自主取消订单；如果商家已经接单，您可以电话联系商家后由对方取消订单。然后重新下一单。\n",
      "\n",
      "Q：我的订单是否被商家确认？\n",
      "App用户可以在商家确认您的订单时收到推送通知，并且订单状态会实时更新；手机触屏版及微信用户可以刷新订单状态页查看。\n",
      "--------\n",
      "Q：预计送达的时间为什么与我实际收餐的时间不符？\n",
      "预计送达时间是系统根据用户评价的时间进行综合计算而得到的参考时间，餐厅的实际配送时间会受到当天的天气、订单量等外界因素影响。\n",
      "\n",
      "Q：为什么会出现无法下单的情况？\n",
      "无法下单有很多情况，可能是菜品售完、餐厅不在营业时间等，请查看无法下单时给的提示。\n",
      "\n",
      "Q：为什么提示下单次数过多，已无法下单？\n",
      "同一手机号在同一设备上一天最多可以成功提交7次订单（在线支付以完成支付为准，货到付款以提交订单为准）。\n",
      "\n",
      "Q：如果对商家服务不满意如何进行投诉？\n",
      "您可以在该订单完成评价后点击订单详情页中的意见反馈向客服投诉，或者拨打美团外卖的客服电话（400-850-7777）向客服进行投诉。\n",
      "\n",
      "Q：如何联系客服解决问题？\n",
      "您可以拨打美团外卖的客服电话（400-850-7777）或者在“我的”——>“意见反馈”页面提交反馈。\n",
      "\n",
      "Q：我用的是手机客户端，为什么无法定位？\n",
      "请先检查手机的网络以及是否开启定位功能。若确认正常，请试着在户外或wifi环境下进行定位。\n",
      "--------\n",
      "Q：如何修改自己的账户信息？\n",
      "美团外卖使用的是美团账号，您可以在“我的”页面修改个人账号信息，也可以在美团网账号页面修改个人账号。\n",
      "\n",
      "Q：为什么有时需要输入短信验证码？\n",
      "为了保障您的账号安全及商家利益，对于新用户及一些有异常行为的下单系统会提示您输入短信验证码。如果迟迟未接收到短信验证码，您同样可以选择接听语音验证码。\n",
      "--------\n"
     ]
    }
   ],
   "source": [
    "from langchain_text_splitters import CharacterTextSplitter\n",
    "\n",
    "# 切分文档\n",
    "text_splitter = CharacterTextSplitter(chunk_size=500, chunk_overlap=0, separator=\"\\n\\n\", keep_separator=True);\n",
    "\n",
    "segments = text_splitter.split_documents(documents)\n",
    "print(len(segments))\n",
    "for segment in segments:\n",
    "    print(segment.page_content)\n",
    "    print(\"--------\")"
   ]
  },
  {
   "cell_type": "code",
   "execution_count": 9,
   "id": "d2dbe5bb",
   "metadata": {},
   "outputs": [
    {
     "data": {
      "text/plain": [
       "[Document(metadata={}, page_content='Q：在线支付取消订单后钱怎么返还？\\n订单取消后，款项会在一个工作日内，直接返还到您的美团账户余额。'),\n",
       " Document(metadata={}, page_content='Q：怎么查看退款是否成功？\\n退款会在一个工作日之内到美团账户余额，可在“账号管理——我的账号”中查看是否到账。'),\n",
       " Document(metadata={}, page_content='Q：美团账户里的余额怎么提现？\\n余额可到美团网（meituan.com）——“我的美团→美团余额”里提取到您的银行卡或者支付宝账号，另外，余额也可直接用于支付外卖订单（限支持在线支付的商家）。'),\n",
       " Document(metadata={}, page_content='Q：余额提现到账时间是多久？\\n1-7个工作日内可退回您的支付账户。由于银行处理可能有延迟，具体以账户的到账时间为准。'),\n",
       " Document(metadata={}, page_content='Q：申请退款后，商家拒绝了怎么办？\\n申请退款后，如果商家拒绝，此时回到订单页面点击“退款申诉”，美团客服介入处理。'),\n",
       " Document(metadata={}, page_content='Q：怎么取消退款呢？\\n请在订单页点击“不退款了”，商家还会正常送餐的。'),\n",
       " Document(metadata={}, page_content='Q：前面下了一个在线支付的单子，由于未付款，订单自动取消了，这单会计算我的参与活动次数吗？\\n不会。如果是未支付的在线支付订单，可以先将订单取消（如果不取消需要15分钟后系统自动取消），订单无效后，此时您再下单仍会享受活动的优惠。'),\n",
       " Document(metadata={}, page_content='Q：为什么我用微信订餐，却无法使用在线支付？\\n目前只有网页版和美团外卖手机App(非美团手机客户端)订餐，才能使用在线支付，请更换到网页版和美团外卖手机App下单。'),\n",
       " Document(metadata={}, page_content='Q：如何进行付款？\\n美团外卖现在支持货到付款与在线支付，其中微信版与手机触屏版暂不支持在线支付。'),\n",
       " Document(metadata={}, page_content='Q：如何查看可以在线支付的商家？\\n你可以在商家列表页寻找带有“付”标识的商家，提交订单时可以选择支付方式。'),\n",
       " Document(metadata={}, page_content='Q：美团外卖支持哪些支付方式？\\n现已支持美团余额、支付宝、网银（储蓄卡、信用卡）。'),\n",
       " Document(metadata={}, page_content='Q：在线支付订单如何退款？\\n商家接单前，您可以直接取消订单，订单金额会自动退款到美团余额；商家接单后，您在点击“申请退款”，在线申请。提交退款申请之后，商家有24小时处理您的退款申请。商家同意退款，或24小时内没有处理您的退款申请，您的支付金额会退款至您的美团余额。'),\n",
       " Document(metadata={}, page_content='Q：在线支付的过程中，订单显示未支付成功，款项却被扣了，怎么办？\\n出现此问题，可能是银行/支付宝的数据没有即时传输至美团，请您不要担心，稍后刷新页面查看。 如半小时后仍显示\"未付款\"，请先联系银行/支付宝客服，获取您扣款的交易号，然后致电美团外卖客服4008507777，我们会协助您解决。'),\n",
       " Document(metadata={}, page_content='Q：哪些商家有优惠？都有些什么优惠？\\n有优惠的商家在商家列表页均含有优惠标识；具体的优惠可以查看活动详情或者商家详情页中的描述。'),\n",
       " Document(metadata={}, page_content='Q：在新用户享受的优惠中，新用户的条件是什么？\\n新用户是指第一次在美团外卖下单的用户（同一设备、同一手机号、同一账户仅可享受一次）。'),\n",
       " Document(metadata={}, page_content='Q：我达到了满赠、满减的优惠的金额，为什么没有享受相关的优惠？\\n满赠与满减优惠是以订单内菜品的总额来计算的，不包含配送费与包装费。'),\n",
       " Document(metadata={}, page_content='Q：超时赔付是什么意思？\\n超时赔付模式即：商家承诺一个送达时间和一个折扣,从用户下单时间开始计算,如果外卖超过了承诺时间才送到,该份外卖按照折扣价收取费用。由于恶劣天气、某些美食烹调时间过长、或者其他因素,商家会选择性的延长承诺时间或者不做承诺。预订单不参与超时赔付。'),\n",
       " Document(metadata={}, page_content='Q：为什么提示我“账户存在异常，无法下单”？\\n包含（但不仅限于）以下行为者，系统将自动予以封禁（客服无权解封）：i）有过虚假交易（编造不存在真实买卖的订单）；ii）有过恶意下单行为；'),\n",
       " Document(metadata={}, page_content='Q：如何取消订单？\\n如果商家尚未接单，您可以在订单详情页通过“取消订单”功能进行取消;如果商家已接单，则需要您电话联系后由商家取消订单。'),\n",
       " Document(metadata={}, page_content='Q：我的订单为什么被取消了？\\n如果商家5分钟未接您的订单，为了保障您的权益，系统将会为您自动取消订单；商家接单后可能由于无法联系到您、菜品售完等原因无法配送，因而取消了您的订单，具体原因可查看系统发送的短信或通知。'),\n",
       " Document(metadata={}, page_content='Q：如何进行催单？\\n您可以在订单状态页面点击“电话催单”按钮向商家商家催单。'),\n",
       " Document(metadata={}, page_content='Q：刚下单发现信息填错了怎么办？\\n如果商家尚未接单，您可以自主取消订单；如果商家已经接单，您可以电话联系商家后由对方取消订单。然后重新下一单。'),\n",
       " Document(metadata={}, page_content='Q：我的订单是否被商家确认？\\nApp用户可以在商家确认您的订单时收到推送通知，并且订单状态会实时更新；手机触屏版及微信用户可以刷新订单状态页查看。'),\n",
       " Document(metadata={}, page_content='Q：预计送达的时间为什么与我实际收餐的时间不符？\\n预计送达时间是系统根据用户评价的时间进行综合计算而得到的参考时间，餐厅的实际配送时间会受到当天的天气、订单量等外界因素影响。'),\n",
       " Document(metadata={}, page_content='Q：为什么会出现无法下单的情况？\\n无法下单有很多情况，可能是菜品售完、餐厅不在营业时间等，请查看无法下单时给的提示。'),\n",
       " Document(metadata={}, page_content='Q：为什么提示下单次数过多，已无法下单？\\n同一手机号在同一设备上一天最多可以成功提交7次订单（在线支付以完成支付为准，货到付款以提交订单为准）。'),\n",
       " Document(metadata={}, page_content='Q：如果对商家服务不满意如何进行投诉？\\n您可以在该订单完成评价后点击订单详情页中的意见反馈向客服投诉，或者拨打美团外卖的客服电话（400-850-7777）向客服进行投诉。'),\n",
       " Document(metadata={}, page_content='Q：如何联系客服解决问题？\\n您可以拨打美团外卖的客服电话（400-850-7777）或者在“我的”——>“意见反馈”页面提交反馈。'),\n",
       " Document(metadata={}, page_content='Q：我用的是手机客户端，为什么无法定位？\\n请先检查手机的网络以及是否开启定位功能。若确认正常，请试着在户外或wifi环境下进行定位。'),\n",
       " Document(metadata={}, page_content='Q：如何修改自己的账户信息？\\n美团外卖使用的是美团账号，您可以在“我的”页面修改个人账号信息，也可以在美团网账号页面修改个人账号。'),\n",
       " Document(metadata={}, page_content='Q：为什么有时需要输入短信验证码？\\n为了保障您的账号安全及商家利益，对于新用户及一些有异常行为的下单系统会提示您输入短信验证码。如果迟迟未接收到短信验证码，您同样可以选择接听语音验证码。')]"
      ]
     },
     "execution_count": 9,
     "metadata": {},
     "output_type": "execute_result"
    }
   ],
   "source": [
    "import re\n",
    "\n",
    "# 自己手动拆分\n",
    "texts = re.split(r\"\\n\\n\", documents[0].page_content)\n",
    "segment_documents = text_splitter.create_documents(texts)\n",
    "segment_documents"
   ]
  },
  {
   "cell_type": "code",
   "execution_count": 10,
   "id": "efb24aaf",
   "metadata": {},
   "outputs": [
    {
     "data": {
      "text/plain": [
       "b'OK'"
      ]
     },
     "execution_count": 10,
     "metadata": {},
     "output_type": "execute_result"
    }
   ],
   "source": [
    "from redis import Redis\n",
    "\n",
    "r = Redis.from_url(\"redis://localhost:6379\")\n",
    "r.ft(\"meituan-index\").dropindex(delete_documents=True)"
   ]
  },
  {
   "cell_type": "code",
   "execution_count": 11,
   "id": "29419aa6",
   "metadata": {},
   "outputs": [],
   "source": [
    "from langchain_community.embeddings import DashScopeEmbeddings\n",
    "from dotenv import load_dotenv\n",
    "from langchain_redis import RedisConfig, RedisVectorStore\n",
    "\n",
    "load_dotenv()\n",
    "\n",
    "embedding_model = DashScopeEmbeddings(model=\"text-embedding-v4\")\n",
    "\n",
    "config = RedisConfig(\n",
    "    index_name=\"meituan-index\",\n",
    "    redis_url=\"redis://localhost:6379\",\n",
    ")\n",
    "vector_store = RedisVectorStore(embedding_model, config=config)\n",
    "\n",
    "batch_size = 10\n",
    "for i in range(0, len(segment_documents), batch_size):\n",
    "    vector_store.add_documents(segment_documents[i:i+batch_size])"
   ]
  },
  {
   "cell_type": "markdown",
   "id": "866a41b2",
   "metadata": {},
   "source": [
    "## Retrival"
   ]
  },
  {
   "cell_type": "code",
   "execution_count": 12,
   "id": "bffbb096",
   "metadata": {},
   "outputs": [
    {
     "data": {
      "text/plain": [
       "[Document(metadata={}, page_content='Q：在线支付取消订单后钱怎么返还？\\n订单取消后，款项会在一个工作日内，直接返还到您的美团账户余额。'),\n",
       " Document(metadata={}, page_content='Q：在线支付订单如何退款？\\n商家接单前，您可以直接取消订单，订单金额会自动退款到美团余额；商家接单后，您在点击“申请退款”，在线申请。提交退款申请之后，商家有24小时处理您的退款申请。商家同意退款，或24小时内没有处理您的退款申请，您的支付金额会退款至您的美团余额。'),\n",
       " Document(metadata={}, page_content='Q：怎么取消退款呢？\\n请在订单页点击“不退款了”，商家还会正常送餐的。'),\n",
       " Document(metadata={}, page_content='Q：前面下了一个在线支付的单子，由于未付款，订单自动取消了，这单会计算我的参与活动次数吗？\\n不会。如果是未支付的在线支付订单，可以先将订单取消（如果不取消需要15分钟后系统自动取消），订单无效后，此时您再下单仍会享受活动的优惠。'),\n",
       " Document(metadata={}, page_content='Q：刚下单发现信息填错了怎么办？\\n如果商家尚未接单，您可以自主取消订单；如果商家已经接单，您可以电话联系商家后由对方取消订单。然后重新下一单。')]"
      ]
     },
     "execution_count": 12,
     "metadata": {},
     "output_type": "execute_result"
    }
   ],
   "source": [
    "query = \"在线支付取消订单后钱怎么返还\"\n",
    "\n",
    "retriever = vector_store.as_retriever()\n",
    "\n",
    "relative_segments = retriever.invoke(query, k=5)\n",
    "relative_segments"
   ]
  },
  {
   "cell_type": "code",
   "execution_count": null,
   "id": "1c281dec",
   "metadata": {},
   "outputs": [],
   "source": []
  },
  {
   "cell_type": "code",
   "execution_count": 13,
   "id": "990f3cac",
   "metadata": {},
   "outputs": [
    {
     "data": {
      "text/plain": [
       "ChatPromptValue(messages=[HumanMessage(content=\"你是一个答疑机器人，你的任务是根据下述给定的已知信息回答用户的问题。\\n     已知信息：['Q：在线支付取消订单后钱怎么返还？\\\\n订单取消后，款项会在一个工作日内，直接返还到您的美团账户余额。', 'Q：在线支付订单如何退款？\\\\n商家接单前，您可以直接取消订单，订单金额会自动退款到美团余额；商家接单后，您在点击“申请退款”，在线申请。提交退款申请之后，商家有24小时处理您的退款申请。商家同意退款，或24小时内没有处理您的退款申请，您的支付金额会退款至您的美团余额。', 'Q：怎么取消退款呢？\\\\n请在订单页点击“不退款了”，商家还会正常送餐的。', 'Q：前面下了一个在线支付的单子，由于未付款，订单自动取消了，这单会计算我的参与活动次数吗？\\\\n不会。如果是未支付的在线支付订单，可以先将订单取消（如果不取消需要15分钟后系统自动取消），订单无效后，此时您再下单仍会享受活动的优惠。', 'Q：刚下单发现信息填错了怎么办？\\\\n如果商家尚未接单，您可以自主取消订单；如果商家已经接单，您可以电话联系商家后由对方取消订单。然后重新下一单。']\\n     用户问题：在线支付取消订单后钱怎么返还\\n     如果已知信息不包含用户问题的答案，或者已知信息不足以回答用户的问题，请直接回复“我我发回答您的问题”。\\n     请不要输出已知信息中不包含的信息或答案。\\n     请用中文回答用户的问题。\", additional_kwargs={}, response_metadata={})])"
      ]
     },
     "execution_count": 13,
     "metadata": {},
     "output_type": "execute_result"
    }
   ],
   "source": [
    "from langchain_core.prompts import ChatPromptTemplate\n",
    "\n",
    "prompt_template = ChatPromptTemplate.from_messages([\n",
    "    (\"user\", \"\"\"你是一个答疑机器人，你的任务是根据下述给定的已知信息回答用户的问题。\n",
    "     已知信息：{context}\n",
    "     用户问题：{question}\n",
    "     如果已知信息不包含用户问题的答案，或者已知信息不足以回答用户的问题，请直接回复“我我发回答您的问题”。\n",
    "     请不要输出已知信息中不包含的信息或答案。\n",
    "     请用中文回答用户的问题。\"\"\")\n",
    "])\n",
    "\n",
    "text = []\n",
    "for segment in relative_segments:\n",
    "    text.append(segment.page_content)\n",
    "\n",
    "prompt = prompt_template.invoke({\"context\": text, \"question\": query})\n",
    "prompt"
   ]
  },
  {
   "cell_type": "code",
   "execution_count": 15,
   "id": "48008392",
   "metadata": {},
   "outputs": [
    {
     "name": "stdout",
     "output_type": "stream",
     "text": [
      "19:30:40 httpx INFO   HTTP Request: POST https://dashscope.aliyuncs.com/compatible-mode/v1/chat/completions \"HTTP/1.1 200 OK\"\n",
      "订单取消后，款项会在一个工作日内，直接返还到您的美团账户余额。\n"
     ]
    }
   ],
   "source": [
    "from langchain_openai import ChatOpenAI\n",
    "import os\n",
    "\n",
    "llm = ChatOpenAI(\n",
    "    model=\"deepseek-v3\",\n",
    "    base_url=\"https://dashscope.aliyuncs.com/compatible-mode/v1\",\n",
    "    api_key=os.getenv(\"DASHSCOPE_API_KEY\"),\n",
    ")\n",
    "\n",
    "response = llm.invoke(prompt)\n",
    "print(response.content)"
   ]
  },
  {
   "cell_type": "code",
   "execution_count": 18,
   "id": "6c6fce61",
   "metadata": {},
   "outputs": [
    {
     "name": "stdout",
     "output_type": "stream",
     "text": [
      "19:42:49 redisvl.index.index INFO   Index already exists, not overwriting.\n",
      "19:42:53 httpx INFO   HTTP Request: POST https://dashscope.aliyuncs.com/compatible-mode/v1/chat/completions \"HTTP/1.1 200 OK\"\n"
     ]
    },
    {
     "data": {
      "text/plain": [
       "'商家接单前，您可以直接取消订单，订单金额会自动退款到美团余额；商家接单后，您在点击“申请退款”，在线申请。提交退款申请之后，商家有24小时处理您的退款申请。商家同意退款，或24小时内没有处理您的退款申请，您的支付金额会退款至您的美团余额。'"
      ]
     },
     "execution_count": 18,
     "metadata": {},
     "output_type": "execute_result"
    }
   ],
   "source": [
    "\n",
    "from langchain_community.embeddings import DashScopeEmbeddings\n",
    "from dotenv import load_dotenv\n",
    "from langchain_redis import RedisConfig, RedisVectorStore\n",
    "from langchain_openai import ChatOpenAI\n",
    "import os\n",
    "from operator import itemgetter\n",
    "from langchain_core.output_parsers import StrOutputParser\n",
    "\n",
    "load_dotenv()\n",
    "\n",
    "query = \"如何退款\"\n",
    "\n",
    "embedding_model = DashScopeEmbeddings(model=\"text-embedding-v4\")\n",
    "\n",
    "config = RedisConfig(\n",
    "    index_name=\"meituan-index\",\n",
    "    redis_url=\"redis://localhost:6379\",\n",
    ")\n",
    "vector_store = RedisVectorStore(embedding_model, config=config)\n",
    "\n",
    "retriever = vector_store.as_retriever()\n",
    "\n",
    "llm = ChatOpenAI(\n",
    "    model=\"deepseek-v3\",\n",
    "    base_url=\"https://dashscope.aliyuncs.com/compatible-mode/v1\",\n",
    "    api_key=os.getenv(\"DASHSCOPE_API_KEY\"),\n",
    ")\n",
    "\n",
    "prompt_template = ChatPromptTemplate.from_messages([\n",
    "    (\"user\", \"\"\"你是一个答疑机器人，你的任务是根据下述给定的已知信息回答用户的问题。\n",
    "     已知信息：{context}\n",
    "     用户问题：{question}\n",
    "     如果已知信息不包含用户问题的答案，或者已知信息不足以回答用户的问题，请直接回复“我我发回答您的问题”。\n",
    "     请不要输出已知信息中不包含的信息或答案。\n",
    "     请用中文回答用户的问题。\"\"\")\n",
    "])\n",
    "\n",
    "def collect_documents(segments):\n",
    "    text = []\n",
    "    for segment in segments:\n",
    "        text.append(segment.page_content)\n",
    "    return text\n",
    "\n",
    "chain = ({\n",
    "    \"context\": itemgetter(\"question\") | retriever | collect_documents,\n",
    "    \"question\": itemgetter(\"question\")\n",
    "    }\n",
    "    | prompt_template\n",
    "    | llm\n",
    "    | StrOutputParser()\n",
    "    )\n",
    "\n",
    "response = chain.invoke({\"question\": query})\n",
    "response"
   ]
  }
 ],
 "metadata": {
  "kernelspec": {
   "display_name": ".venv",
   "language": "python",
   "name": "python3"
  },
  "language_info": {
   "codemirror_mode": {
    "name": "ipython",
    "version": 3
   },
   "file_extension": ".py",
   "mimetype": "text/x-python",
   "name": "python",
   "nbconvert_exporter": "python",
   "pygments_lexer": "ipython3",
   "version": "3.11.0"
  }
 },
 "nbformat": 4,
 "nbformat_minor": 5
}
