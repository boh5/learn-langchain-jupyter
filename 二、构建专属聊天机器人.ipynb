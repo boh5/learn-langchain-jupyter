{
 "cells": [
  {
   "cell_type": "code",
   "execution_count": 1,
   "metadata": {},
   "outputs": [
    {
     "data": {
      "text/plain": [
       "True"
      ]
     },
     "execution_count": 1,
     "metadata": {},
     "output_type": "execute_result"
    }
   ],
   "source": [
    "# load environment variables from .env file (requires `python-dotenv`)\n",
    "from dotenv import load_dotenv\n",
    "import os\n",
    "\n",
    "load_dotenv()"
   ]
  },
  {
   "cell_type": "code",
   "execution_count": 2,
   "metadata": {},
   "outputs": [
    {
     "name": "stdout",
     "output_type": "stream",
     "text": [
      "很高興見到您\n"
     ]
    }
   ],
   "source": [
    "from langchain_openai import ChatOpenAI\n",
    "from langchain_core.prompts import ChatPromptTemplate\n",
    "from langchain_core.output_parsers import StrOutputParser\n",
    "\n",
    "prompt_template = ChatPromptTemplate.from_messages([\n",
    "    (\"system\", \"Translate the following from English into {language}\"),\n",
    "    (\"user\", \"{text}\")\n",
    "])\n",
    "\n",
    "\n",
    "llm = ChatOpenAI(\n",
    "    model=\"llama-3.1-8b-instant\",\n",
    "    base_url=\"https://api.groq.com/openai/v1\",\n",
    ")\n",
    "\n",
    "parser = StrOutputParser()\n",
    "\n",
    "chain = prompt_template | llm | parser\n",
    "\n",
    "print(chain.invoke({\"text\": \"nice to meet you\", \"language\": \"Chinese\"}))\n",
    "\n"
   ]
  },
  {
   "cell_type": "code",
   "execution_count": 3,
   "metadata": {},
   "outputs": [
    {
     "name": "stdout",
     "output_type": "stream",
     "text": [
      "你好，很高兴见到你。\n",
      "\n",
      "(\"nǐ hǎo, hěn gāo xìng jiàn dào nǐ.\")\n"
     ]
    }
   ],
   "source": [
    "analysis_prompt = ChatPromptTemplate.from_template(\"我应该怎么回答这句话？{talk}。给我一个五个字以内的示例\")\n",
    "\n",
    "chain2 = {\"talk\": chain} | analysis_prompt | llm | parser\n",
    "\n",
    "print(chain2.invoke({\"text\": \"nice to meet you\", \"language\": \"Chinese\"}))"
   ]
  },
  {
   "cell_type": "code",
   "execution_count": 4,
   "metadata": {},
   "outputs": [
    {
     "name": "stdout",
     "output_type": "stream",
     "text": [
      "Chinese: 中文翻译为:\n",
      "\n",
      "很高兴见到你\n",
      "French: Enchanté(e).\n"
     ]
    }
   ],
   "source": [
    "from langchain_core.runnables import RunnableMap, RunnableLambda\n",
    "\n",
    "prompt_template_zh = ChatPromptTemplate.from_messages([\n",
    "    (\"system\", \"Translate the following from English into Chinese\"),\n",
    "    (\"user\", \"{text}\")\n",
    "])\n",
    "\n",
    "prompt_template_fr = ChatPromptTemplate.from_messages([\n",
    "    (\"system\", \"Translate the following from English into French\"),\n",
    "    (\"user\", \"{text}\")\n",
    "])\n",
    "\n",
    "# 构建链\n",
    "chain_zh = prompt_template_zh | llm | parser\n",
    "chain_fr = prompt_template_fr | llm | parser\n",
    "\n",
    "# 并行执行两个链\n",
    "parallel_chains = RunnableMap({\n",
    "    \"zh_translation\": chain_zh,\n",
    "    \"fr_translation\": chain_fr,\n",
    "})\n",
    "\n",
    "# 合并结果\n",
    "final_chain = parallel_chains | RunnableLambda(lambda x: f\"Chinese: {x['zh_translation']}\\nFrench: {x['fr_translation']}\")\n",
    "\n",
    "print(final_chain.invoke({\"text\": \"nice to meet you\"}))"
   ]
  },
  {
   "cell_type": "code",
   "execution_count": 5,
   "metadata": {},
   "outputs": [
    {
     "name": "stdout",
     "output_type": "stream",
     "text": [
      "   +----------------------------------------------+    \n",
      "   | Parallel<zh_translation,fr_translation>Input |    \n",
      "   +----------------------------------------------+    \n",
      "                  ***             ***                  \n",
      "                **                   **                \n",
      "              **                       **              \n",
      "+--------------------+          +--------------------+ \n",
      "| ChatPromptTemplate |          | ChatPromptTemplate | \n",
      "+--------------------+          +--------------------+ \n",
      "           *                               *           \n",
      "           *                               *           \n",
      "           *                               *           \n",
      "    +------------+                  +------------+     \n",
      "    | ChatOpenAI |                  | ChatOpenAI |     \n",
      "    +------------+                  +------------+     \n",
      "           *                               *           \n",
      "           *                               *           \n",
      "           *                               *           \n",
      "  +-----------------+             +-----------------+  \n",
      "  | StrOutputParser |             | StrOutputParser |  \n",
      "  +-----------------+             +-----------------+  \n",
      "                  ***             ***                  \n",
      "                     **         **                     \n",
      "                       **     **                       \n",
      "  +-----------------------------------------------+    \n",
      "  | Parallel<zh_translation,fr_translation>Output |    \n",
      "  +-----------------------------------------------+    \n",
      "                           *                           \n",
      "                           *                           \n",
      "                           *                           \n",
      "                      +--------+                       \n",
      "                      | Lambda |                       \n",
      "                      +--------+                       \n",
      "                           *                           \n",
      "                           *                           \n",
      "                           *                           \n",
      "                   +--------------+                    \n",
      "                   | LambdaOutput |                    \n",
      "                   +--------------+                    \n"
     ]
    }
   ],
   "source": [
    "final_chain.get_graph().print_ascii()"
   ]
  },
  {
   "cell_type": "markdown",
   "metadata": {},
   "source": [
    "## 保存聊天记录"
   ]
  },
  {
   "cell_type": "code",
   "execution_count": 6,
   "metadata": {},
   "outputs": [
    {
     "name": "stdout",
     "output_type": "stream",
     "text": [
      "我是 LLaMA，一个人工智能语言模型。我的任务是与用户交谈，回答他们的问题，并提供信息，帮助他们解决问题。\n",
      "我是 LLaMA，一个基于语言的人工智能模型。我的目的在于与用户进行交谈，回答他们的疑问并提供有用的信息。\n"
     ]
    }
   ],
   "source": [
    "from langchain_core.chat_history import InMemoryChatMessageHistory\n",
    "\n",
    "history = InMemoryChatMessageHistory()\n",
    "\n",
    "history.add_user_message(\"你是谁？\")\n",
    "ai_message = llm.invoke(history.messages)\n",
    "print(ai_message.content)\n",
    "history.add_message(ai_message)\n",
    "\n",
    "history.add_user_message(\"请重复一次\")\n",
    "ai_message2 = llm.invoke(history.messages)\n",
    "print(ai_message2.content)\n",
    "history.add_message(ai_message2)"
   ]
  },
  {
   "cell_type": "code",
   "execution_count": 7,
   "metadata": {},
   "outputs": [
    {
     "name": "stdout",
     "output_type": "stream",
     "text": [
      "14:40:53 httpx INFO   HTTP Request: POST https://api.groq.com/openai/v1/chat/completions \"HTTP/1.1 200 OK\"\n",
      "您想让我重复什么？\n"
     ]
    }
   ],
   "source": [
    "from langchain_redis import RedisChatMessageHistory\n",
    "\n",
    "history = RedisChatMessageHistory(session_id=\"test\", redis_url=\"redis://localhost:6379/0\")\n",
    "\n",
    "# history.add_user_message(\"你是谁？\")\n",
    "# ai_message = llm.invoke(history.messages)\n",
    "# print(ai_message.content)\n",
    "# history.add_message(ai_message)\n",
    "\n",
    "history.add_user_message(\"请重复一次\")\n",
    "ai_message2 = llm.invoke(history.messages)\n",
    "print(ai_message2.content)\n",
    "history.add_message(ai_message2)"
   ]
  },
  {
   "cell_type": "markdown",
   "metadata": {},
   "source": [
    "## 3、聊天消息整合 LCEL"
   ]
  },
  {
   "cell_type": "code",
   "execution_count": 8,
   "metadata": {},
   "outputs": [
    {
     "name": "stdout",
     "output_type": "stream",
     "text": [
      "14:40:54 httpx INFO   HTTP Request: POST https://api.groq.com/openai/v1/chat/completions \"HTTP/1.1 200 OK\"\n",
      "14:40:54 httpx INFO   HTTP Request: POST https://api.groq.com/openai/v1/chat/completions \"HTTP/1.1 200 OK\"\n"
     ]
    },
    {
     "data": {
      "text/plain": [
       "AIMessage(content='我是 LLaMA (Large Language Model Application)，是一种人工智能语言模型。我的任务是帮助用户回答问题，提供信息，并进行互动对话。', additional_kwargs={'refusal': None}, response_metadata={'token_usage': {'completion_tokens': 37, 'prompt_tokens': 88, 'total_tokens': 125, 'completion_tokens_details': None, 'prompt_tokens_details': None, 'queue_time': 0.195844822, 'prompt_time': 0.005135643, 'completion_time': 0.049333333, 'total_time': 0.054468976}, 'model_name': 'llama-3.1-8b-instant', 'system_fingerprint': 'fp_0f5c9bc037', 'id': 'chatcmpl-367a3bb1-334b-48e3-a0c3-f3c3317f0af8', 'service_tier': None, 'finish_reason': 'stop', 'logprobs': None}, id='run--57039b9a-a31e-42b0-a856-d5d37e03e5f4-0', usage_metadata={'input_tokens': 88, 'output_tokens': 37, 'total_tokens': 125, 'input_token_details': {}, 'output_token_details': {}})"
      ]
     },
     "execution_count": 8,
     "metadata": {},
     "output_type": "execute_result"
    }
   ],
   "source": [
    "from langchain_core.runnables.history import RunnableWithMessageHistory\n",
    "\n",
    "runnable = RunnableWithMessageHistory(\n",
    "    llm,\n",
    "    get_session_history=lambda: history,\n",
    ")\n",
    "\n",
    "history.clear()\n",
    "\n",
    "runnable.invoke({\"text\": \"你是谁？\"})\n",
    "runnable.invoke({\"text\": \"请重复一次\"})"
   ]
  }
 ],
 "metadata": {
  "kernelspec": {
   "display_name": ".venv",
   "language": "python",
   "name": "python3"
  },
  "language_info": {
   "codemirror_mode": {
    "name": "ipython",
    "version": 3
   },
   "file_extension": ".py",
   "mimetype": "text/x-python",
   "name": "python",
   "nbconvert_exporter": "python",
   "pygments_lexer": "ipython3",
   "version": "3.11.0"
  }
 },
 "nbformat": 4,
 "nbformat_minor": 2
}
