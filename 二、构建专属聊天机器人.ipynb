{
 "cells": [
  {
   "cell_type": "code",
   "execution_count": 2,
   "metadata": {},
   "outputs": [
    {
     "data": {
      "text/plain": [
       "True"
      ]
     },
     "execution_count": 2,
     "metadata": {},
     "output_type": "execute_result"
    }
   ],
   "source": [
    "# load environment variables from .env file (requires `python-dotenv`)\n",
    "from dotenv import load_dotenv\n",
    "import os\n",
    "\n",
    "load_dotenv()"
   ]
  },
  {
   "cell_type": "code",
   "execution_count": 3,
   "metadata": {},
   "outputs": [
    {
     "name": "stdout",
     "output_type": "stream",
     "text": [
      "您好（nín hǎo）\n"
     ]
    }
   ],
   "source": [
    "from langchain_openai import ChatOpenAI\n",
    "from langchain_core.prompts import ChatPromptTemplate\n",
    "from langchain_core.output_parsers import StrOutputParser\n",
    "\n",
    "prompt_template = ChatPromptTemplate.from_messages([\n",
    "    (\"system\", \"Translate the following from English into {language}\"),\n",
    "    (\"user\", \"{text}\")\n",
    "])\n",
    "\n",
    "\n",
    "llm = ChatOpenAI(\n",
    "    model=\"llama-3.1-8b-instant\",\n",
    "    base_url=\"https://api.groq.com/openai/v1\",\n",
    ")\n",
    "\n",
    "parser = StrOutputParser()\n",
    "\n",
    "chain = prompt_template | llm | parser\n",
    "\n",
    "print(chain.invoke({\"text\": \"nice to meet you\", \"language\": \"Chinese\"}))\n",
    "\n"
   ]
  },
  {
   "cell_type": "code",
   "execution_count": 4,
   "metadata": {},
   "outputs": [
    {
     "name": "stdout",
     "output_type": "stream",
     "text": [
      "\"很高兴见到你\"\n"
     ]
    }
   ],
   "source": [
    "analysis_prompt = ChatPromptTemplate.from_template(\"我应该怎么回答这句话？{talk}。给我一个五个字以内的示例\")\n",
    "\n",
    "chain2 = {\"talk\": chain} | analysis_prompt | llm | parser\n",
    "\n",
    "print(chain2.invoke({\"text\": \"nice to meet you\", \"language\": \"Chinese\"}))"
   ]
  },
  {
   "cell_type": "code",
   "execution_count": 5,
   "metadata": {},
   "outputs": [
    {
     "name": "stdout",
     "output_type": "stream",
     "text": [
      "Chinese: 很高興见到你\n",
      "French: Enchanté(e).\n"
     ]
    }
   ],
   "source": [
    "from langchain_core.runnables import RunnableMap, RunnableLambda\n",
    "\n",
    "prompt_template_zh = ChatPromptTemplate.from_messages([\n",
    "    (\"system\", \"Translate the following from English into Chinese\"),\n",
    "    (\"user\", \"{text}\")\n",
    "])\n",
    "\n",
    "prompt_template_fr = ChatPromptTemplate.from_messages([\n",
    "    (\"system\", \"Translate the following from English into French\"),\n",
    "    (\"user\", \"{text}\")\n",
    "])\n",
    "\n",
    "# 构建链\n",
    "chain_zh = prompt_template_zh | llm | parser\n",
    "chain_fr = prompt_template_fr | llm | parser\n",
    "\n",
    "# 并行执行两个链\n",
    "parallel_chains = RunnableMap({\n",
    "    \"zh_translation\": chain_zh,\n",
    "    \"fr_translation\": chain_fr,\n",
    "})\n",
    "\n",
    "# 合并结果\n",
    "final_chain = parallel_chains | RunnableLambda(lambda x: f\"Chinese: {x['zh_translation']}\\nFrench: {x['fr_translation']}\")\n",
    "\n",
    "print(final_chain.invoke({\"text\": \"nice to meet you\"}))"
   ]
  },
  {
   "cell_type": "code",
   "execution_count": 10,
   "metadata": {},
   "outputs": [
    {
     "name": "stdout",
     "output_type": "stream",
     "text": [
      "   +----------------------------------------------+    \n",
      "   | Parallel<zh_translation,fr_translation>Input |    \n",
      "   +----------------------------------------------+    \n",
      "                  ***             ***                  \n",
      "                **                   **                \n",
      "              **                       **              \n",
      "+--------------------+          +--------------------+ \n",
      "| ChatPromptTemplate |          | ChatPromptTemplate | \n",
      "+--------------------+          +--------------------+ \n",
      "           *                               *           \n",
      "           *                               *           \n",
      "           *                               *           \n",
      "    +------------+                  +------------+     \n",
      "    | ChatOpenAI |                  | ChatOpenAI |     \n",
      "    +------------+                  +------------+     \n",
      "           *                               *           \n",
      "           *                               *           \n",
      "           *                               *           \n",
      "  +-----------------+             +-----------------+  \n",
      "  | StrOutputParser |             | StrOutputParser |  \n",
      "  +-----------------+             +-----------------+  \n",
      "                  ***             ***                  \n",
      "                     **         **                     \n",
      "                       **     **                       \n",
      "  +-----------------------------------------------+    \n",
      "  | Parallel<zh_translation,fr_translation>Output |    \n",
      "  +-----------------------------------------------+    \n",
      "                           *                           \n",
      "                           *                           \n",
      "                           *                           \n",
      "                      +--------+                       \n",
      "                      | Lambda |                       \n",
      "                      +--------+                       \n",
      "                           *                           \n",
      "                           *                           \n",
      "                           *                           \n",
      "                   +--------------+                    \n",
      "                   | LambdaOutput |                    \n",
      "                   +--------------+                    \n"
     ]
    }
   ],
   "source": [
    "final_chain.get_graph().print_ascii()"
   ]
  },
  {
   "cell_type": "markdown",
   "metadata": {},
   "source": [
    "## 保存聊天记录"
   ]
  },
  {
   "cell_type": "code",
   "execution_count": 11,
   "metadata": {},
   "outputs": [
    {
     "name": "stdout",
     "output_type": "stream",
     "text": [
      "我是一个人工智能模型，我被称为Chatbot或语言模型。我的任务是帮助用户交谈、回答问题和提供信息。我可以学习和改进我的知识以更好地满足你的需求。\n",
      "我是一个人工智能模型，能够理解和回答问题。我的工作是提供信息、帮助解决问题和进行互动。\n"
     ]
    }
   ],
   "source": [
    "from langchain_core.chat_history import InMemoryChatMessageHistory\n",
    "\n",
    "history = InMemoryChatMessageHistory()\n",
    "\n",
    "history.add_user_message(\"你是谁？\")\n",
    "ai_message = llm.invoke(history.messages)\n",
    "print(ai_message.content)\n",
    "history.add_message(ai_message)\n",
    "\n",
    "history.add_user_message(\"请重复一次\")\n",
    "ai_message2 = llm.invoke(history.messages)\n",
    "print(ai_message2.content)\n",
    "history.add_message(ai_message2)"
   ]
  },
  {
   "cell_type": "code",
   "execution_count": 6,
   "metadata": {},
   "outputs": [
    {
     "name": "stdout",
     "output_type": "stream",
     "text": [
      "21:02:28 redisvl.index.index INFO   Index already exists, not overwriting.\n",
      "21:02:29 httpx INFO   HTTP Request: POST https://api.groq.com/openai/v1/chat/completions \"HTTP/1.1 200 OK\"\n",
      "我是一個語言模型，我被稱為 LLaMA。我的功能是用自然語言和人類類似的語句來回答你提出的問題，或者和你進行對話。\n"
     ]
    }
   ],
   "source": [
    "from langchain_redis import RedisChatMessageHistory\n",
    "\n",
    "history = RedisChatMessageHistory(session_id=\"test\", redis_url=\"redis://localhost:6379/0\")\n",
    "\n",
    "# history.add_user_message(\"你是谁？\")\n",
    "# ai_message = llm.invoke(history.messages)\n",
    "# print(ai_message.content)\n",
    "# history.add_message(ai_message)\n",
    "\n",
    "history.add_user_message(\"请重复一次\")\n",
    "ai_message2 = llm.invoke(history.messages)\n",
    "print(ai_message2.content)\n",
    "history.add_message(ai_message2)"
   ]
  },
  {
   "cell_type": "markdown",
   "metadata": {},
   "source": [
    "## 3、聊天消息整合 LCEL"
   ]
  },
  {
   "cell_type": "code",
   "execution_count": 7,
   "metadata": {},
   "outputs": [
    {
     "name": "stdout",
     "output_type": "stream",
     "text": [
      "21:07:54 httpx INFO   HTTP Request: POST https://api.groq.com/openai/v1/chat/completions \"HTTP/1.1 200 OK\"\n",
      "21:07:54 httpx INFO   HTTP Request: POST https://api.groq.com/openai/v1/chat/completions \"HTTP/1.1 200 OK\"\n"
     ]
    },
    {
     "data": {
      "text/plain": [
       "AIMessage(content='我是一個語言模型 llamá, 我被設計用來回答你們的問題、聊天、甚至創作文本。我的能力還在不斷學習和改進中，現在可以回答關於各種主題的問題。', additional_kwargs={'refusal': None}, response_metadata={'token_usage': {'completion_tokens': 55, 'prompt_tokens': 113, 'total_tokens': 168, 'completion_tokens_details': None, 'prompt_tokens_details': None, 'queue_time': 0.21656186700000002, 'prompt_time': 0.006616617, 'completion_time': 0.073333333, 'total_time': 0.07994995}, 'model_name': 'llama-3.1-8b-instant', 'system_fingerprint': 'fp_510c177af0', 'id': 'chatcmpl-eeb2cdc1-97c8-43b6-851a-c91b627028a2', 'service_tier': None, 'finish_reason': 'stop', 'logprobs': None}, id='run--887686f8-0d0e-42b9-b6b5-c181f8221e77-0', usage_metadata={'input_tokens': 113, 'output_tokens': 55, 'total_tokens': 168, 'input_token_details': {}, 'output_token_details': {}})"
      ]
     },
     "execution_count": 7,
     "metadata": {},
     "output_type": "execute_result"
    }
   ],
   "source": [
    "from langchain_core.runnables.history import RunnableWithMessageHistory\n",
    "\n",
    "runnable = RunnableWithMessageHistory(\n",
    "    llm,\n",
    "    get_session_history=lambda: history,\n",
    ")\n",
    "\n",
    "history.clear()\n",
    "\n",
    "runnable.invoke({\"text\": \"你是谁？\"})\n",
    "runnable.invoke({\"text\": \"请重复一次\"})"
   ]
  }
 ],
 "metadata": {
  "kernelspec": {
   "display_name": ".venv",
   "language": "python",
   "name": "python3"
  },
  "language_info": {
   "codemirror_mode": {
    "name": "ipython",
    "version": 3
   },
   "file_extension": ".py",
   "mimetype": "text/x-python",
   "name": "python",
   "nbconvert_exporter": "python",
   "pygments_lexer": "ipython3",
   "version": "3.11.0"
  }
 },
 "nbformat": 4,
 "nbformat_minor": 2
}
